{
 "cells": [
  {
   "cell_type": "markdown",
   "id": "7a867c73",
   "metadata": {},
   "source": [
    "<img src=\"https://heig-vd.ch/docs/default-source/doc-global-newsletter/2020-slim.svg\" alt=\"Logo HEIG-VD\" style=\"width: 80px;\" align=\"right\"/>\n",
    "\n",
    "# Cours APN - Labo 3 : Groupement hiérarchique de documents\n",
    "\n",
    "## Résumé\n",
    "Le but de ce laboratoire est d'appliquer un algorithme de groupement hiérarchique à des résumés de films.  Vous afficherez les résultats et observerez quels paramètres permettent d'obtenir un groupement convenable, car il n'y a pas de vérité-terrain dans ces données.\n",
    "\n",
    "Les étapes proposées sont les suivantes :\n",
    "  1. Préparation des documents : pré-traitement des textes des résumés\n",
    "  2. Création des représentations vectorielles de chaque résumé\n",
    "  3. Groupement hiérarchique, affichage du dendrogramme, et discussion"
   ]
  },
  {
   "cell_type": "markdown",
   "id": "ace0bfa2",
   "metadata": {},
   "source": [
    "## 1. Préparation des documents\n",
    "\n",
    "Dans ce labo, vous utiliserez les titres et résumés des 100 films classiques (*référence anonymisée*) qui vous sont fournis sur Cyberlearn dans le fichier `movie_data.csv` sur deux colonnes : titres et résumés.\n",
    "\n",
    "Dans cette première partie, vous allez transformer les textes des résumés pour réduire la diversité du vocabulaire.  Un ensemble de fonctions de préparation vous est fourni dans la librairie `utils.py` (également sur Cyberlearn) et il est conseillé de les lire et de les utiliser."
   ]
  },
  {
   "cell_type": "code",
   "execution_count": 92,
   "id": "d78ab77e",
   "metadata": {
    "ExecuteTime": {
     "end_time": "2023-11-01T10:37:08.163924857Z",
     "start_time": "2023-11-01T10:37:08.017973035Z"
    }
   },
   "outputs": [],
   "source": [
    "import itertools\n",
    "\n",
    "import numpy as np\n",
    "import pandas as pd\n",
    "import utils # librairie avec des fonctions de pré-traitement des textes\n",
    "# elle fait appel à la librairie NLTK (ce qui affiche plusieurs messages)"
   ]
  },
  {
   "cell_type": "markdown",
   "id": "8774e7ed",
   "metadata": {},
   "source": [
    "a. Veuillez charger les données des films depuis le fichier `movie_data.csv` dans une _DataFrame_ intitulée `movie_data`.  Combien de lignes et colonnes a-t-elle et quels sont les intitulés des colonnes ?"
   ]
  },
  {
   "cell_type": "code",
   "execution_count": 93,
   "id": "45dd2bed",
   "metadata": {
    "ExecuteTime": {
     "end_time": "2023-11-01T10:37:08.340280500Z",
     "start_time": "2023-11-01T10:37:08.033904826Z"
    }
   },
   "outputs": [
    {
     "data": {
      "text/plain": "                       Title  \\\n0              The Godfather   \n1   The Shawshank Redemption   \n2           Schindler's List   \n3                Raging Bull   \n4                 Casablanca   \n..                       ...   \n95     Rebel Without a Cause   \n96               Rear Window   \n97             The Third Man   \n98        North by Northwest   \n99       Yankee Doodle Dandy   \n\n                                             Synopsis  \n0   In late summer 1945, guests are gathered for t...  \n1   In 1947, Andy Dufresne (Tim Robbins), a banker...  \n2   The relocation of Polish Jews from surrounding...  \n3   The film opens in 1964, where an older and fat...  \n4   In the early years of World War II, December 1...  \n..                                                ...  \n95  Shortly after moving to Los Angeles with his p...  \n96  L.B. \"Jeff\" Jeffries (James Stewart) recuperat...  \n97  Sights of Vienna, Austria, flash across the sc...  \n98  At the end of an ordinary work day, advertisin...  \n99  A film of the life of the renowned musical com...  \n\n[100 rows x 2 columns]",
      "text/html": "<div>\n<style scoped>\n    .dataframe tbody tr th:only-of-type {\n        vertical-align: middle;\n    }\n\n    .dataframe tbody tr th {\n        vertical-align: top;\n    }\n\n    .dataframe thead th {\n        text-align: right;\n    }\n</style>\n<table border=\"1\" class=\"dataframe\">\n  <thead>\n    <tr style=\"text-align: right;\">\n      <th></th>\n      <th>Title</th>\n      <th>Synopsis</th>\n    </tr>\n  </thead>\n  <tbody>\n    <tr>\n      <th>0</th>\n      <td>The Godfather</td>\n      <td>In late summer 1945, guests are gathered for t...</td>\n    </tr>\n    <tr>\n      <th>1</th>\n      <td>The Shawshank Redemption</td>\n      <td>In 1947, Andy Dufresne (Tim Robbins), a banker...</td>\n    </tr>\n    <tr>\n      <th>2</th>\n      <td>Schindler's List</td>\n      <td>The relocation of Polish Jews from surrounding...</td>\n    </tr>\n    <tr>\n      <th>3</th>\n      <td>Raging Bull</td>\n      <td>The film opens in 1964, where an older and fat...</td>\n    </tr>\n    <tr>\n      <th>4</th>\n      <td>Casablanca</td>\n      <td>In the early years of World War II, December 1...</td>\n    </tr>\n    <tr>\n      <th>...</th>\n      <td>...</td>\n      <td>...</td>\n    </tr>\n    <tr>\n      <th>95</th>\n      <td>Rebel Without a Cause</td>\n      <td>Shortly after moving to Los Angeles with his p...</td>\n    </tr>\n    <tr>\n      <th>96</th>\n      <td>Rear Window</td>\n      <td>L.B. \"Jeff\" Jeffries (James Stewart) recuperat...</td>\n    </tr>\n    <tr>\n      <th>97</th>\n      <td>The Third Man</td>\n      <td>Sights of Vienna, Austria, flash across the sc...</td>\n    </tr>\n    <tr>\n      <th>98</th>\n      <td>North by Northwest</td>\n      <td>At the end of an ordinary work day, advertisin...</td>\n    </tr>\n    <tr>\n      <th>99</th>\n      <td>Yankee Doodle Dandy</td>\n      <td>A film of the life of the renowned musical com...</td>\n    </tr>\n  </tbody>\n</table>\n<p>100 rows × 2 columns</p>\n</div>"
     },
     "execution_count": 93,
     "metadata": {},
     "output_type": "execute_result"
    }
   ],
   "source": [
    "movie_data = pd.read_csv(\"movie_data.csv\")\n",
    "movie_data"
   ]
  },
  {
   "cell_type": "markdown",
   "id": "a931118e",
   "metadata": {},
   "source": [
    "b. Veuillez normaliser le texte de chaque résumé en appliquant plusieurs des fonctions fournies dans `utils.py` (pour cela, vous devez examiner ce fichier).  Veuillez stocker les textes normalisés dans une nouvelle colonne de la _DataFrame_.   Il n'est pas nécessaire de tokeniser les textes normalisés, car le _vectorizer_ de sklearn le fera plus loin. "
   ]
  },
  {
   "cell_type": "code",
   "execution_count": 94,
   "outputs": [],
   "source": [
    "def text_filter(text):\n",
    "    for f in (utils.remove_stopwords, utils.remove_punctuation, utils.remove_non_alphabetic):\n",
    "        text = f(text)\n",
    "    return text"
   ],
   "metadata": {
    "collapsed": false,
    "ExecuteTime": {
     "end_time": "2023-11-01T10:37:08.399609316Z",
     "start_time": "2023-11-01T10:37:08.087753306Z"
    }
   },
   "id": "170c6b9b8e748a30"
  },
  {
   "cell_type": "code",
   "execution_count": 95,
   "id": "4c08d5f1",
   "metadata": {
    "ExecuteTime": {
     "end_time": "2023-11-01T10:37:15.724764888Z",
     "start_time": "2023-11-01T10:37:08.093443236Z"
    }
   },
   "outputs": [],
   "source": [
    "texts = movie_data[\"Synopsis\"]\n",
    "\n",
    "movie_data[\"NormalizedSynopsis\"] = texts.apply(text_filter).apply(utils.lemmatize_text)"
   ]
  },
  {
   "cell_type": "markdown",
   "id": "65d63ce5",
   "metadata": {},
   "source": [
    "c. Veuillez analyser la longueur des résumés, avant et après le pré-traitement, grâce au _5-number summary_ de chaque distribution.  Veuillez commenter brièvement l'évolution de la distribution suite au pré-traitement."
   ]
  },
  {
   "cell_type": "code",
   "execution_count": 96,
   "id": "19105c2c",
   "metadata": {
    "ExecuteTime": {
     "end_time": "2023-11-01T10:37:15.771898719Z",
     "start_time": "2023-11-01T10:37:15.768385404Z"
    }
   },
   "outputs": [
    {
     "data": {
      "text/plain": "     Synopsis  NormalizedSynopsis\nmin   1071.00              709.00\n25%   4378.75             2822.25\n50%   6528.50             4182.00\n75%  11417.50             7239.50\nmax  34021.00            22090.00",
      "text/html": "<div>\n<style scoped>\n    .dataframe tbody tr th:only-of-type {\n        vertical-align: middle;\n    }\n\n    .dataframe tbody tr th {\n        vertical-align: top;\n    }\n\n    .dataframe thead th {\n        text-align: right;\n    }\n</style>\n<table border=\"1\" class=\"dataframe\">\n  <thead>\n    <tr style=\"text-align: right;\">\n      <th></th>\n      <th>Synopsis</th>\n      <th>NormalizedSynopsis</th>\n    </tr>\n  </thead>\n  <tbody>\n    <tr>\n      <th>min</th>\n      <td>1071.00</td>\n      <td>709.00</td>\n    </tr>\n    <tr>\n      <th>25%</th>\n      <td>4378.75</td>\n      <td>2822.25</td>\n    </tr>\n    <tr>\n      <th>50%</th>\n      <td>6528.50</td>\n      <td>4182.00</td>\n    </tr>\n    <tr>\n      <th>75%</th>\n      <td>11417.50</td>\n      <td>7239.50</td>\n    </tr>\n    <tr>\n      <th>max</th>\n      <td>34021.00</td>\n      <td>22090.00</td>\n    </tr>\n  </tbody>\n</table>\n</div>"
     },
     "execution_count": 96,
     "metadata": {},
     "output_type": "execute_result"
    }
   ],
   "source": [
    "synopsis_lengths = movie_data[[\"Synopsis\", \"NormalizedSynopsis\"]].applymap(len)\n",
    "synopsis_lengths.describe().loc[[\"min\", \"25%\", \"50%\", \"75%\", \"max\"]]"
   ]
  },
  {
   "cell_type": "markdown",
   "source": [
    "**Réponse:** On constate que la longueur des résumés normalisés est bien moindre que celle des résumés originaux (médiane des longueurs réduite d'environ 36%)"
   ],
   "metadata": {
    "collapsed": false
   },
   "id": "a3258a7359d9e5ab"
  },
  {
   "cell_type": "markdown",
   "id": "34ded57b",
   "metadata": {},
   "source": [
    "d. Veuillez afficher un extrait du résumé d'un film *avant* et *après* le pré-traitement et commenter brièvement le résultat."
   ]
  },
  {
   "cell_type": "code",
   "execution_count": 97,
   "id": "0d6e48b8",
   "metadata": {
    "ExecuteTime": {
     "end_time": "2023-11-01T10:37:15.772319515Z",
     "start_time": "2023-11-01T10:37:15.768615323Z"
    }
   },
   "outputs": [
    {
     "name": "stdout",
     "output_type": "stream",
     "text": [
      "Original:\n",
      "In late summer 1945, guests are gathered for the wedding reception of Don Vito Corleone's daughter Connie (Talia Shire) and Carlo Rizzi (Gianni Russo). Vito (Marlon Brando), the head of the Corleone M\n",
      "Normalized:\n",
      "in late summer guest gather wed reception don vito corleone s daughter connie talia shire carlo rizzi gianni russo vito marlon brando head corleone mafia family know friend associate godfather he tom \n"
     ]
    }
   ],
   "source": [
    "print(\"Original:\")\n",
    "print(movie_data.loc[0][\"Synopsis\"][0:200])\n",
    "print(\"Normalized:\")\n",
    "print(movie_data.loc[0][\"NormalizedSynopsis\"][0:200])"
   ]
  },
  {
   "cell_type": "markdown",
   "source": [
    "**Réponse:** On constate qu'il n'y a effectivement plus de chiffres, ponctuation et de _stop_words_, avec par example la disparition respective de 1945, la virgule qui le suit ainsi que le verbe _are_ un peu après. Les mots restants ont subit une lemmatisation, ils sont en minuscules et transformés en une forme plus courte (infinitif pour les verbes, singulier pour les mots, etc)."
   ],
   "metadata": {
    "collapsed": false
   },
   "id": "c027833815c82229"
  },
  {
   "cell_type": "markdown",
   "id": "188af344",
   "metadata": {},
   "source": [
    "## 2. Création des représentations vectorielles\n",
    "\n",
    "Dans cette partie, vous allez créer pour chaque film une représentation vectorielle avec les coefficients TF-IDF, comme vous l'avez appris en PCD, en utilisant `TfidfVectorizer`.  Veuillez justifier brièvement votre choix de paramètres.\n",
    "\n",
    "a. Veuillez créer les vecteurs dans un tableau appelé `feature_matrix`, avec autant de lignes que de films."
   ]
  },
  {
   "cell_type": "code",
   "execution_count": 98,
   "id": "28ebfddd",
   "metadata": {
    "ExecuteTime": {
     "end_time": "2023-11-01T10:37:15.772473306Z",
     "start_time": "2023-11-01T10:37:15.768762200Z"
    }
   },
   "outputs": [],
   "source": [
    "from sklearn.feature_extraction.text import TfidfVectorizer"
   ]
  },
  {
   "cell_type": "code",
   "execution_count": 99,
   "id": "6fd9b771",
   "metadata": {
    "ExecuteTime": {
     "end_time": "2023-11-01T10:37:15.941404705Z",
     "start_time": "2023-11-01T10:37:15.768867242Z"
    }
   },
   "outputs": [
    {
     "data": {
      "text/plain": "(100, 11159)"
     },
     "execution_count": 99,
     "metadata": {},
     "output_type": "execute_result"
    }
   ],
   "source": [
    "vectorizer = TfidfVectorizer()\n",
    "feature_matrix = vectorizer.fit_transform(movie_data[\"NormalizedSynopsis\"])\n",
    "np.shape(feature_matrix)"
   ]
  },
  {
   "cell_type": "markdown",
   "id": "021fa8d8",
   "metadata": {},
   "source": [
    "b. Quel est le nombre de colonnes du tableau `feature_matrix`. Pourquoi ?"
   ]
  },
  {
   "cell_type": "markdown",
   "source": [
    "**Réponse**: Il y a 100 colonnes, une par résumé de film"
   ],
   "metadata": {
    "collapsed": false
   },
   "id": "3073e83771d36a7e"
  },
  {
   "cell_type": "markdown",
   "id": "fb9b05bc",
   "metadata": {},
   "source": [
    "c. Veuillez afficher les mots correspondant aux 20 premières dimensions de `feature_matrix`.  (Note : les dimensions sont classées par ordre alphabétique des mots.)"
   ]
  },
  {
   "cell_type": "code",
   "execution_count": 110,
   "id": "69415666",
   "metadata": {
    "ExecuteTime": {
     "end_time": "2023-11-01T10:38:24.842982683Z",
     "start_time": "2023-11-01T10:38:24.812047519Z"
    }
   },
   "outputs": [
    {
     "name": "stdout",
     "output_type": "stream",
     "text": [
      "['00am' '101st' '11th' '13th' '15th' '16th' '1800s' '18th' '1900s' '1920s'\n",
      " '1930s' '1940s' '1950s' '1960s' '1st' '20th' '21st' '25th' '2nd' '30s']\n"
     ]
    }
   ],
   "source": [
    "print(vectorizer.get_feature_names_out()[:20])"
   ]
  },
  {
   "cell_type": "markdown",
   "id": "baa470da",
   "metadata": {},
   "source": [
    "## 3. Groupement hiérarchique\n",
    "Dans cette section, vous utiliserez un algorithme de groupement hiérarchique et vous afficherez les résultats sous forme de dendrogramme.  Les fonctions utilisées proviendront de `scipy`, comme recommandé par sklearn sous [Plot Hierarchical Clustering Dendrogram](https://scikit-learn.org/stable/auto_examples/cluster/plot_agglomerative_dendrogram.html).  Merci de suivre les indications et répondre aux questions suivantes."
   ]
  },
  {
   "cell_type": "code",
   "execution_count": 121,
   "id": "4da48978",
   "metadata": {
    "ExecuteTime": {
     "end_time": "2023-11-01T10:47:28.856490099Z",
     "start_time": "2023-11-01T10:47:28.845401362Z"
    }
   },
   "outputs": [],
   "source": [
    "from itertools import combinations\n",
    "from sklearn.metrics.pairwise import cosine_similarity\n",
    "from scipy.cluster.hierarchy import single, complete, average, ward\n",
    "from scipy.cluster.hierarchy import dendrogram, cut_tree\n",
    "import matplotlib.pyplot as plt\n",
    "%matplotlib inline"
   ]
  },
  {
   "cell_type": "markdown",
   "id": "f6bc100e",
   "metadata": {},
   "source": [
    "a. Générer une matrice des distances entre paires de résumés, en utilisant les représentations vectorielles obtenues ci-dessus et la métrique [sklearn.metrics.pairwise.cosine_similarity](https://scikit-learn.org/stable/modules/generated/sklearn.metrics.pairwise.cosine_similarity.html).  Attention, le cosinus étant une similarité, prendre _1-cosinus_ pour obtenir des distances. "
   ]
  },
  {
   "cell_type": "code",
   "execution_count": 137,
   "id": "638e5049",
   "metadata": {
    "ExecuteTime": {
     "end_time": "2023-11-01T10:51:27.753661796Z",
     "start_time": "2023-11-01T10:51:27.740167512Z"
    }
   },
   "outputs": [
    {
     "data": {
      "text/plain": "array([[-2.22044605e-16,  9.74404629e-01,  9.68092195e-01, ...,\n         9.77767328e-01,  9.67372968e-01,  9.68748430e-01],\n       [ 9.74404629e-01, -2.22044605e-16,  9.66221222e-01, ...,\n         9.77112815e-01,  9.71981910e-01,  9.80682407e-01],\n       [ 9.68092195e-01,  9.66221222e-01, -2.22044605e-16, ...,\n         9.80899554e-01,  9.78223661e-01,  9.78885435e-01],\n       ...,\n       [ 9.77767328e-01,  9.77112815e-01,  9.80899554e-01, ...,\n         2.22044605e-16,  9.60837032e-01,  9.88287112e-01],\n       [ 9.67372968e-01,  9.71981910e-01,  9.78223661e-01, ...,\n         9.60837032e-01, -2.22044605e-16,  9.81992334e-01],\n       [ 9.68748430e-01,  9.80682407e-01,  9.78885435e-01, ...,\n         9.88287112e-01,  9.81992334e-01, -2.22044605e-16]])"
     },
     "execution_count": 137,
     "metadata": {},
     "output_type": "execute_result"
    }
   ],
   "source": [
    "distances = 1.0 - cosine_similarity(feature_matrix, feature_matrix)\n",
    "distances"
   ]
  },
  {
   "cell_type": "markdown",
   "id": "5f5f946e",
   "metadata": {},
   "source": [
    "b. Veuillez utiliser la méthode **ward** de [scipy.cluster.hierarchy](https://docs.scipy.org/doc/scipy/reference/cluster.hierarchy.html) qui effectue le groupement hiérarchique à partir d'une matrice des distances.  Quel est le résultat retourné par la méthode ?"
   ]
  },
  {
   "cell_type": "code",
   "execution_count": 139,
   "id": "ce6aceac",
   "metadata": {
    "ExecuteTime": {
     "end_time": "2023-11-01T10:52:50.703444056Z",
     "start_time": "2023-11-01T10:52:50.690542098Z"
    }
   },
   "outputs": [],
   "source": [
    "grouping = ward(distances)"
   ]
  },
  {
   "cell_type": "markdown",
   "id": "b461b752",
   "metadata": {},
   "source": [
    "c. Afficher le dendrogramme avec la fonction [scipy.cluster.hierarchy.dendrogram](https://docs.scipy.org/doc/scipy/reference/generated/scipy.cluster.hierarchy.dendrogram.html) qui utilise la matrice de liens.  Utiliser l'exemple donné en bas de la page [dendrogram](https://docs.scipy.org/doc/scipy/reference/generated/scipy.cluster.hierarchy.dendrogram.html).  Veuillez afficher un dendrogramme aussi lisible que possible, et en particulier veuillez étiqueter chaque feuille avec le nom du film correspondant."
   ]
  },
  {
   "cell_type": "code",
   "execution_count": 140,
   "id": "34e767e2",
   "metadata": {
    "ExecuteTime": {
     "end_time": "2023-11-01T10:52:55.117283105Z",
     "start_time": "2023-11-01T10:52:53.944365076Z"
    }
   },
   "outputs": [
    {
     "data": {
      "text/plain": "{'icoord': [[5.0, 5.0, 15.0, 15.0],\n  [25.0, 25.0, 35.0, 35.0],\n  [10.0, 10.0, 30.0, 30.0],\n  [55.0, 55.0, 65.0, 65.0],\n  [45.0, 45.0, 60.0, 60.0],\n  [75.0, 75.0, 85.0, 85.0],\n  [95.0, 95.0, 105.0, 105.0],\n  [115.0, 115.0, 125.0, 125.0],\n  [135.0, 135.0, 145.0, 145.0],\n  [120.0, 120.0, 140.0, 140.0],\n  [155.0, 155.0, 165.0, 165.0],\n  [175.0, 175.0, 185.0, 185.0],\n  [195.0, 195.0, 205.0, 205.0],\n  [215.0, 215.0, 225.0, 225.0],\n  [200.0, 200.0, 220.0, 220.0],\n  [235.0, 235.0, 245.0, 245.0],\n  [255.0, 255.0, 265.0, 265.0],\n  [240.0, 240.0, 260.0, 260.0],\n  [295.0, 295.0, 305.0, 305.0],\n  [285.0, 285.0, 300.0, 300.0],\n  [275.0, 275.0, 292.5, 292.5],\n  [315.0, 315.0, 325.0, 325.0],\n  [335.0, 335.0, 345.0, 345.0],\n  [320.0, 320.0, 340.0, 340.0],\n  [283.75, 283.75, 330.0, 330.0],\n  [365.0, 365.0, 375.0, 375.0],\n  [355.0, 355.0, 370.0, 370.0],\n  [395.0, 395.0, 405.0, 405.0],\n  [385.0, 385.0, 400.0, 400.0],\n  [362.5, 362.5, 392.5, 392.5],\n  [306.875, 306.875, 377.5, 377.5],\n  [250.0, 250.0, 342.1875, 342.1875],\n  [210.0, 210.0, 296.09375, 296.09375],\n  [415.0, 415.0, 425.0, 425.0],\n  [435.0, 435.0, 445.0, 445.0],\n  [465.0, 465.0, 475.0, 475.0],\n  [455.0, 455.0, 470.0, 470.0],\n  [485.0, 485.0, 495.0, 495.0],\n  [525.0, 525.0, 535.0, 535.0],\n  [515.0, 515.0, 530.0, 530.0],\n  [505.0, 505.0, 522.5, 522.5],\n  [555.0, 555.0, 565.0, 565.0],\n  [545.0, 545.0, 560.0, 560.0],\n  [513.75, 513.75, 552.5, 552.5],\n  [575.0, 575.0, 585.0, 585.0],\n  [605.0, 605.0, 615.0, 615.0],\n  [595.0, 595.0, 610.0, 610.0],\n  [580.0, 580.0, 602.5, 602.5],\n  [625.0, 625.0, 635.0, 635.0],\n  [655.0, 655.0, 665.0, 665.0],\n  [645.0, 645.0, 660.0, 660.0],\n  [630.0, 630.0, 652.5, 652.5],\n  [675.0, 675.0, 685.0, 685.0],\n  [705.0, 705.0, 715.0, 715.0],\n  [695.0, 695.0, 710.0, 710.0],\n  [680.0, 680.0, 702.5, 702.5],\n  [641.25, 641.25, 691.25, 691.25],\n  [725.0, 725.0, 735.0, 735.0],\n  [755.0, 755.0, 765.0, 765.0],\n  [745.0, 745.0, 760.0, 760.0],\n  [730.0, 730.0, 752.5, 752.5],\n  [775.0, 775.0, 785.0, 785.0],\n  [805.0, 805.0, 815.0, 815.0],\n  [795.0, 795.0, 810.0, 810.0],\n  [825.0, 825.0, 835.0, 835.0],\n  [875.0, 875.0, 885.0, 885.0],\n  [865.0, 865.0, 880.0, 880.0],\n  [855.0, 855.0, 872.5, 872.5],\n  [845.0, 845.0, 863.75, 863.75],\n  [830.0, 830.0, 854.375, 854.375],\n  [802.5, 802.5, 842.1875, 842.1875],\n  [780.0, 780.0, 822.34375, 822.34375],\n  [741.25, 741.25, 801.171875, 801.171875],\n  [666.25, 666.25, 771.2109375, 771.2109375],\n  [591.25, 591.25, 718.73046875, 718.73046875],\n  [533.125, 533.125, 654.990234375, 654.990234375],\n  [490.0, 490.0, 594.0576171875, 594.0576171875],\n  [462.5, 462.5, 542.02880859375, 542.02880859375],\n  [440.0, 440.0, 502.264404296875, 502.264404296875],\n  [420.0, 420.0, 471.1322021484375, 471.1322021484375],\n  [253.046875, 253.046875, 445.56610107421875, 445.56610107421875],\n  [180.0, 180.0, 349.3064880371094, 349.3064880371094],\n  [895.0, 895.0, 905.0, 905.0],\n  [925.0, 925.0, 935.0, 935.0],\n  [915.0, 915.0, 930.0, 930.0],\n  [945.0, 945.0, 955.0, 955.0],\n  [965.0, 965.0, 975.0, 975.0],\n  [985.0, 985.0, 995.0, 995.0],\n  [970.0, 970.0, 990.0, 990.0],\n  [950.0, 950.0, 980.0, 980.0],\n  [922.5, 922.5, 965.0, 965.0],\n  [900.0, 900.0, 943.75, 943.75],\n  [264.6532440185547, 264.6532440185547, 921.875, 921.875],\n  [160.0, 160.0, 593.2641220092773, 593.2641220092773],\n  [130.0, 130.0, 376.6320610046387, 376.6320610046387],\n  [100.0, 100.0, 253.31603050231934, 253.31603050231934],\n  [80.0, 80.0, 176.65801525115967, 176.65801525115967],\n  [52.5, 52.5, 128.32900762557983, 128.32900762557983],\n  [20.0, 20.0, 90.41450381278992, 90.41450381278992]],\n 'dcoord': [[0.0, 0.6538279269437711, 0.6538279269437711, 0.0],\n  [0.0, 0.8887880699873659, 0.8887880699873659, 0.0],\n  [0.6538279269437711,\n   1.7332528986122575,\n   1.7332528986122575,\n   0.8887880699873659],\n  [0.0, 0.9871689662157066, 0.9871689662157066, 0.0],\n  [0.0, 1.09947813186587, 1.09947813186587, 0.9871689662157066],\n  [0.0, 0.7209412100980798, 0.7209412100980798, 0.0],\n  [0.0, 0.9275783172149406, 0.9275783172149406, 0.0],\n  [0.0, 0.9813107700376343, 0.9813107700376343, 0.0],\n  [0.0, 0.9835329337944353, 0.9835329337944353, 0.0],\n  [0.9813107700376343,\n   1.7413598507378598,\n   1.7413598507378598,\n   0.9835329337944353],\n  [0.0, 0.964159362379162, 0.964159362379162, 0.0],\n  [0.0, 1.0820755934424566, 1.0820755934424566, 0.0],\n  [0.0, 1.2332860522432472, 1.2332860522432472, 0.0],\n  [0.0, 1.2872818233371828, 1.2872818233371828, 0.0],\n  [1.2332860522432472,\n   1.4877945620000024,\n   1.4877945620000024,\n   1.2872818233371828],\n  [0.0, 1.2302277695776729, 1.2302277695776729, 0.0],\n  [0.0, 1.3583076901277957, 1.3583076901277957, 0.0],\n  [1.2302277695776729,\n   1.408424166678285,\n   1.408424166678285,\n   1.3583076901277957],\n  [0.0, 1.3221597278839834, 1.3221597278839834, 0.0],\n  [0.0, 1.3616855299576784, 1.3616855299576784, 1.3221597278839834],\n  [0.0, 1.3913831660003488, 1.3913831660003488, 1.3616855299576784],\n  [0.0, 1.344402339355925, 1.344402339355925, 0.0],\n  [0.0, 1.356869130471358, 1.356869130471358, 0.0],\n  [1.344402339355925,\n   1.4101648419459651,\n   1.4101648419459651,\n   1.356869130471358],\n  [1.3913831660003488,\n   1.4312641187006234,\n   1.4312641187006234,\n   1.4101648419459651],\n  [0.0, 1.3003688820302153, 1.3003688820302153, 0.0],\n  [0.0, 1.3335009327446812, 1.3335009327446812, 1.3003688820302153],\n  [0.0, 1.3160406965724585, 1.3160406965724585, 0.0],\n  [0.0, 1.3454778674045278, 1.3454778674045278, 1.3160406965724585],\n  [1.3335009327446812,\n   1.4584287618130332,\n   1.4584287618130332,\n   1.3454778674045278],\n  [1.4312641187006234,\n   1.4956166343260733,\n   1.4956166343260733,\n   1.4584287618130332],\n  [1.408424166678285,\n   1.5256637216345608,\n   1.5256637216345608,\n   1.4956166343260733],\n  [1.4877945620000024,\n   1.5415026452838891,\n   1.5415026452838891,\n   1.5256637216345608],\n  [0.0, 1.2404739920017942, 1.2404739920017942, 0.0],\n  [0.0, 1.2376244239362444, 1.2376244239362444, 0.0],\n  [0.0, 1.3081854081433169, 1.3081854081433169, 0.0],\n  [0.0, 1.3730370228936362, 1.3730370228936362, 1.3081854081433169],\n  [0.0, 1.295562717202609, 1.295562717202609, 0.0],\n  [0.0, 1.3580123525609487, 1.3580123525609487, 0.0],\n  [0.0, 1.3843035963654997, 1.3843035963654997, 1.3580123525609487],\n  [0.0, 1.400361234313124, 1.400361234313124, 1.3843035963654997],\n  [0.0, 1.352972401193874, 1.352972401193874, 0.0],\n  [0.0, 1.4012521121765604, 1.4012521121765604, 1.352972401193874],\n  [1.400361234313124,\n   1.4223651988505164,\n   1.4223651988505164,\n   1.4012521121765604],\n  [0.0, 1.3867447059074267, 1.3867447059074267, 0.0],\n  [0.0, 1.3873644136501635, 1.3873644136501635, 0.0],\n  [0.0, 1.3971358735599242, 1.3971358735599242, 1.3873644136501635],\n  [1.3867447059074267,\n   1.4136869781248498,\n   1.4136869781248498,\n   1.3971358735599242],\n  [0.0, 1.3556926637600306, 1.3556926637600306, 0.0],\n  [0.0, 1.36301065705402, 1.36301065705402, 0.0],\n  [0.0, 1.3841696337933598, 1.3841696337933598, 1.36301065705402],\n  [1.3556926637600306,\n   1.4067520792337245,\n   1.4067520792337245,\n   1.3841696337933598],\n  [0.0, 1.384562384940276, 1.384562384940276, 0.0],\n  [0.0, 1.3687147984260704, 1.3687147984260704, 0.0],\n  [0.0, 1.3940862660579276, 1.3940862660579276, 1.3687147984260704],\n  [1.384562384940276,\n   1.4069984730179865,\n   1.4069984730179865,\n   1.3940862660579276],\n  [1.4067520792337245,\n   1.4223442003102729,\n   1.4223442003102729,\n   1.4069984730179865],\n  [0.0, 1.3617611823799434, 1.3617611823799434, 0.0],\n  [0.0, 1.3787181811194384, 1.3787181811194384, 0.0],\n  [0.0, 1.3969740254399299, 1.3969740254399299, 1.3787181811194384],\n  [1.3617611823799434,\n   1.399040943334982,\n   1.399040943334982,\n   1.3969740254399299],\n  [0.0, 1.3225050201192015, 1.3225050201192015, 0.0],\n  [0.0, 1.350282544805353, 1.350282544805353, 0.0],\n  [0.0, 1.3766076492523651, 1.3766076492523651, 1.350282544805353],\n  [0.0, 1.374383065186746, 1.374383065186746, 0.0],\n  [0.0, 1.3694071095075213, 1.3694071095075213, 0.0],\n  [0.0, 1.3883816604343018, 1.3883816604343018, 1.3694071095075213],\n  [0.0, 1.3933116833768135, 1.3933116833768135, 1.3883816604343018],\n  [0.0, 1.3977896346474663, 1.3977896346474663, 1.3933116833768135],\n  [1.374383065186746,\n   1.401738932159862,\n   1.401738932159862,\n   1.3977896346474663],\n  [1.3766076492523651,\n   1.428039107959852,\n   1.428039107959852,\n   1.401738932159862],\n  [1.3225050201192015,\n   1.4320215500542444,\n   1.4320215500542444,\n   1.428039107959852],\n  [1.399040943334982,\n   1.438680854703735,\n   1.438680854703735,\n   1.4320215500542444],\n  [1.4223442003102729,\n   1.4429793022540838,\n   1.4429793022540838,\n   1.438680854703735],\n  [1.4136869781248498,\n   1.4534755544395457,\n   1.4534755544395457,\n   1.4429793022540838],\n  [1.4223651988505164,\n   1.4677963545788946,\n   1.4677963545788946,\n   1.4534755544395457],\n  [1.295562717202609,\n   1.4924309427550733,\n   1.4924309427550733,\n   1.4677963545788946],\n  [1.3730370228936362,\n   1.5147936891040228,\n   1.5147936891040228,\n   1.4924309427550733],\n  [1.2376244239362444,\n   1.5526004762918948,\n   1.5526004762918948,\n   1.5147936891040228],\n  [1.2404739920017942,\n   1.5638826261843222,\n   1.5638826261843222,\n   1.5526004762918948],\n  [1.5415026452838891,\n   1.6034175452478527,\n   1.6034175452478527,\n   1.5638826261843222],\n  [1.0820755934424566,\n   1.7001717694135974,\n   1.7001717694135974,\n   1.6034175452478527],\n  [0.0, 1.0762627011368044, 1.0762627011368044, 0.0],\n  [0.0, 1.1311371392866307, 1.1311371392866307, 0.0],\n  [0.0, 1.3459656423463073, 1.3459656423463073, 1.1311371392866307],\n  [0.0, 1.1431334048985822, 1.1431334048985822, 0.0],\n  [0.0, 1.1687457071947436, 1.1687457071947436, 0.0],\n  [0.0, 1.3058080823545017, 1.3058080823545017, 0.0],\n  [1.1687457071947436,\n   1.429226219855302,\n   1.429226219855302,\n   1.3058080823545017],\n  [1.1431334048985822,\n   1.5481035599991155,\n   1.5481035599991155,\n   1.429226219855302],\n  [1.3459656423463073,\n   1.6340939799509417,\n   1.6340939799509417,\n   1.5481035599991155],\n  [1.0762627011368044,\n   1.7121610827731963,\n   1.7121610827731963,\n   1.6340939799509417],\n  [1.7001717694135974,\n   1.7301808222107553,\n   1.7301808222107553,\n   1.7121610827731963],\n  [0.964159362379162,\n   1.7825611067363196,\n   1.7825611067363196,\n   1.7301808222107553],\n  [1.7413598507378598,\n   1.8223185932575552,\n   1.8223185932575552,\n   1.7825611067363196],\n  [0.9275783172149406,\n   1.8379315508874894,\n   1.8379315508874894,\n   1.8223185932575552],\n  [0.7209412100980798,\n   2.1221763272352367,\n   2.1221763272352367,\n   1.8379315508874894],\n  [1.09947813186587, 2.126163708181888, 2.126163708181888, 2.1221763272352367],\n  [1.7332528986122575,\n   2.387518607673891,\n   2.387518607673891,\n   2.126163708181888]],\n 'ivl': ['0',\n  '11',\n  '8',\n  '75',\n  '43',\n  '27',\n  '76',\n  '7',\n  '56',\n  '26',\n  '67',\n  '3',\n  '23',\n  '15',\n  '85',\n  '52',\n  '86',\n  '17',\n  '18',\n  '55',\n  '69',\n  '31',\n  '97',\n  '12',\n  '38',\n  '4',\n  '33',\n  '89',\n  '29',\n  '19',\n  '21',\n  '20',\n  '81',\n  '49',\n  '91',\n  '10',\n  '24',\n  '32',\n  '59',\n  '1',\n  '35',\n  '13',\n  '68',\n  '41',\n  '61',\n  '25',\n  '83',\n  '99',\n  '50',\n  '65',\n  '82',\n  '51',\n  '44',\n  '53',\n  '79',\n  '22',\n  '37',\n  '34',\n  '46',\n  '30',\n  '28',\n  '60',\n  '16',\n  '66',\n  '94',\n  '84',\n  '88',\n  '47',\n  '57',\n  '93',\n  '6',\n  '74',\n  '71',\n  '73',\n  '54',\n  '5',\n  '70',\n  '40',\n  '96',\n  '77',\n  '14',\n  '95',\n  '45',\n  '64',\n  '39',\n  '90',\n  '92',\n  '63',\n  '98',\n  '9',\n  '87',\n  '72',\n  '42',\n  '78',\n  '62',\n  '80',\n  '2',\n  '58',\n  '36',\n  '48'],\n 'leaves': [0,\n  11,\n  8,\n  75,\n  43,\n  27,\n  76,\n  7,\n  56,\n  26,\n  67,\n  3,\n  23,\n  15,\n  85,\n  52,\n  86,\n  17,\n  18,\n  55,\n  69,\n  31,\n  97,\n  12,\n  38,\n  4,\n  33,\n  89,\n  29,\n  19,\n  21,\n  20,\n  81,\n  49,\n  91,\n  10,\n  24,\n  32,\n  59,\n  1,\n  35,\n  13,\n  68,\n  41,\n  61,\n  25,\n  83,\n  99,\n  50,\n  65,\n  82,\n  51,\n  44,\n  53,\n  79,\n  22,\n  37,\n  34,\n  46,\n  30,\n  28,\n  60,\n  16,\n  66,\n  94,\n  84,\n  88,\n  47,\n  57,\n  93,\n  6,\n  74,\n  71,\n  73,\n  54,\n  5,\n  70,\n  40,\n  96,\n  77,\n  14,\n  95,\n  45,\n  64,\n  39,\n  90,\n  92,\n  63,\n  98,\n  9,\n  87,\n  72,\n  42,\n  78,\n  62,\n  80,\n  2,\n  58,\n  36,\n  48],\n 'color_list': ['C1',\n  'C2',\n  'C0',\n  'C3',\n  'C3',\n  'C4',\n  'C5',\n  'C6',\n  'C7',\n  'C0',\n  'C8',\n  'C9',\n  'C1',\n  'C1',\n  'C1',\n  'C1',\n  'C1',\n  'C1',\n  'C1',\n  'C1',\n  'C1',\n  'C1',\n  'C1',\n  'C1',\n  'C1',\n  'C1',\n  'C1',\n  'C1',\n  'C1',\n  'C1',\n  'C1',\n  'C1',\n  'C1',\n  'C1',\n  'C1',\n  'C1',\n  'C1',\n  'C1',\n  'C1',\n  'C1',\n  'C1',\n  'C1',\n  'C1',\n  'C1',\n  'C1',\n  'C1',\n  'C1',\n  'C1',\n  'C1',\n  'C1',\n  'C1',\n  'C1',\n  'C1',\n  'C1',\n  'C1',\n  'C1',\n  'C1',\n  'C1',\n  'C1',\n  'C1',\n  'C1',\n  'C1',\n  'C1',\n  'C1',\n  'C1',\n  'C1',\n  'C1',\n  'C1',\n  'C1',\n  'C1',\n  'C1',\n  'C1',\n  'C1',\n  'C1',\n  'C1',\n  'C1',\n  'C1',\n  'C1',\n  'C1',\n  'C1',\n  'C1',\n  'C0',\n  'C2',\n  'C3',\n  'C3',\n  'C3',\n  'C3',\n  'C3',\n  'C3',\n  'C3',\n  'C3',\n  'C0',\n  'C0',\n  'C0',\n  'C0',\n  'C0',\n  'C0',\n  'C0',\n  'C0'],\n 'leaves_color_list': ['C1',\n  'C1',\n  'C2',\n  'C2',\n  'C3',\n  'C3',\n  'C3',\n  'C4',\n  'C4',\n  'C5',\n  'C5',\n  'C6',\n  'C6',\n  'C7',\n  'C7',\n  'C8',\n  'C8',\n  'C9',\n  'C9',\n  'C1',\n  'C1',\n  'C1',\n  'C1',\n  'C1',\n  'C1',\n  'C1',\n  'C1',\n  'C1',\n  'C1',\n  'C1',\n  'C1',\n  'C1',\n  'C1',\n  'C1',\n  'C1',\n  'C1',\n  'C1',\n  'C1',\n  'C1',\n  'C1',\n  'C1',\n  'C1',\n  'C1',\n  'C1',\n  'C1',\n  'C1',\n  'C1',\n  'C1',\n  'C1',\n  'C1',\n  'C1',\n  'C1',\n  'C1',\n  'C1',\n  'C1',\n  'C1',\n  'C1',\n  'C1',\n  'C1',\n  'C1',\n  'C1',\n  'C1',\n  'C1',\n  'C1',\n  'C1',\n  'C1',\n  'C1',\n  'C1',\n  'C1',\n  'C1',\n  'C1',\n  'C1',\n  'C1',\n  'C1',\n  'C1',\n  'C1',\n  'C1',\n  'C1',\n  'C1',\n  'C1',\n  'C1',\n  'C1',\n  'C1',\n  'C1',\n  'C1',\n  'C1',\n  'C1',\n  'C1',\n  'C1',\n  'C2',\n  'C2',\n  'C3',\n  'C3',\n  'C3',\n  'C3',\n  'C3',\n  'C3',\n  'C3',\n  'C3',\n  'C3']}"
     },
     "execution_count": 140,
     "metadata": {},
     "output_type": "execute_result"
    },
    {
     "data": {
      "text/plain": "<Figure size 640x480 with 1 Axes>",
      "image/png": "[encoded data removed]"
     },
     "metadata": {},
     "output_type": "display_data"
    }
   ],
   "source": [
    "dendrogram(grouping)"
   ]
  },
  {
   "cell_type": "markdown",
   "id": "a84be2c0",
   "metadata": {},
   "source": [
    "d. Veuillez essayer une deuxième méthode de groupement hiérarchique et afficher son dendrogramme.  Comment se compare-t-il au précédent ?  Le trouvez-vous meilleur, moins bon, ou similaire ? "
   ]
  },
  {
   "cell_type": "code",
   "execution_count": 101,
   "id": "98ec5b46",
   "metadata": {
    "ExecuteTime": {
     "end_time": "2023-11-01T10:37:15.943667854Z",
     "start_time": "2023-11-01T10:37:15.914969776Z"
    }
   },
   "outputs": [],
   "source": []
  },
  {
   "cell_type": "code",
   "execution_count": 101,
   "id": "ccd14579",
   "metadata": {
    "ExecuteTime": {
     "end_time": "2023-11-01T10:37:15.980367341Z",
     "start_time": "2023-11-01T10:37:15.958664883Z"
    }
   },
   "outputs": [],
   "source": []
  },
  {
   "cell_type": "markdown",
   "id": "ec6419ba",
   "metadata": {},
   "source": [
    "e. Quel est le nombre de groupes qui vous semble optimal, pour la méthode de votre choix ?  Pourquoi ?"
   ]
  },
  {
   "cell_type": "code",
   "execution_count": 101,
   "id": "6d49b307",
   "metadata": {
    "ExecuteTime": {
     "end_time": "2023-11-01T10:37:15.981027065Z",
     "start_time": "2023-11-01T10:37:15.958906675Z"
    }
   },
   "outputs": [],
   "source": []
  },
  {
   "cell_type": "markdown",
   "id": "f1dee5e5",
   "metadata": {},
   "source": [
    "## 4. Affichage des groupes et de leurs mots-clés\n",
    "\n",
    "Dans cette section, vous utiliserez la méthode de groupement et le nombre de groupes choisis dans la section précédente.  Pour obtenir un nombre de groupe fixé à l'avance à partir de la matrice *linkage* obtenue au 3b ou 3d, vous pouvez utiliser la fonction `cut_tree`de Scipy. \n",
    "\n",
    "a. Pour chaque groupe, veuillez afficher :\n",
    "* le numéro du groupe (commençant par 1)\n",
    "* les titres des films du groupe\n",
    "* le nombre de films dans le groupe"
   ]
  },
  {
   "cell_type": "code",
   "execution_count": 101,
   "id": "e59d1e74",
   "metadata": {
    "ExecuteTime": {
     "end_time": "2023-11-01T10:37:15.981201250Z",
     "start_time": "2023-11-01T10:37:15.959089521Z"
    }
   },
   "outputs": [],
   "source": []
  },
  {
   "cell_type": "markdown",
   "id": "8616bceb",
   "metadata": {},
   "source": [
    "b. Pour chacun des groupes précédents, veuillez afficher les six meilleurs mots-clés qui le caractérisent.  On définit les mots-clés comme les mots (donc les dimensions résultant du `TfidfVectorizer`) qui ont les plus grands coefficients dans le centre de gravité du groupe."
   ]
  },
  {
   "cell_type": "code",
   "execution_count": 101,
   "id": "47bcad8a",
   "metadata": {
    "ExecuteTime": {
     "end_time": "2023-11-01T10:37:15.981423347Z",
     "start_time": "2023-11-01T10:37:15.959227737Z"
    }
   },
   "outputs": [],
   "source": []
  },
  {
   "cell_type": "markdown",
   "id": "0da57cbd",
   "metadata": {},
   "source": [
    "c. D'après les titres des films (et vos connaissances), les mots-clés obtenus sont-ils représentatifs des groupes ?"
   ]
  },
  {
   "cell_type": "code",
   "execution_count": 101,
   "id": "deeebac9",
   "metadata": {
    "ExecuteTime": {
     "end_time": "2023-11-01T10:37:15.981555417Z",
     "start_time": "2023-11-01T10:37:15.959386348Z"
    }
   },
   "outputs": [],
   "source": []
  },
  {
   "cell_type": "markdown",
   "id": "2b161c17",
   "metadata": {},
   "source": [
    "**Fin du Labo 3.**  Veuillez nettoyer ce notebook, afficher les résultats et les commentaires demandés, l'enregistrer, et le soumettre comme devoir sur Cyberlearn."
   ]
  }
 ],
 "metadata": {
  "kernelspec": {
   "name": "python3",
   "language": "python",
   "display_name": "Python 3 (ipykernel)"
  },
  "language_info": {
   "codemirror_mode": {
    "name": "ipython",
    "version": 3
   },
   "file_extension": ".py",
   "mimetype": "text/x-python",
   "name": "python",
   "nbconvert_exporter": "python",
   "pygments_lexer": "ipython3",
   "version": "3.11.5"
  }
 },
 "nbformat": 4,
 "nbformat_minor": 5
}
